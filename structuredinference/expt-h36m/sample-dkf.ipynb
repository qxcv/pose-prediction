{
 "cells": [
  {
   "cell_type": "markdown",
   "metadata": {
    "deletable": true,
    "editable": true
   },
   "source": [
    "# Sampling pose DKF trained on H3.6M"
   ]
  },
  {
   "cell_type": "code",
   "execution_count": null,
   "metadata": {
    "collapsed": false,
    "deletable": true,
    "editable": true,
    "scrolled": false
   },
   "outputs": [],
   "source": [
    "%matplotlib inline\n",
    "%load_ext autoreload\n",
    "%autoreload 2\n",
    "\n",
    "import os\n",
    "import addpaths\n",
    "from load import loadDataset\n",
    "from h36m_loader import insert_junk_entries\n",
    "import os\n",
    "import numpy as np\n",
    "from scipy.signal import convolve2d\n",
    "\n",
    "# Stupid hack to make parameter loading actually work\n",
    "# (ugh, this is super brittle code)\n",
    "import sys\n",
    "del sys.argv[1:]\n",
    "\n",
    "# CONFIG_PATH = './chkpt-h36m/DKF_lr-8_0000e-04-vm-R-inf-structured-dh-50-ds-10-nl-relu-bs-20-ep-2000-rs-600-ttype-simple_gated-etype-mlp-previnp-False-ar-1_0000e+01-rv-5_0000e-02-nade-False-nt-5000-uid-config.pkl'\n",
    "# WEIGHT_PATH = './chkpt-h36m/DKF_lr-8_0000e-04-vm-R-inf-structured-dh-50-ds-10-nl-relu-bs-20-ep-2000-rs-600-ttype-simple_gated-etype-mlp-previnp-False-ar-1_0000e+01-rv-5_0000e-02-nade-False-nt-5000-uid-EP375-params.npz'\n",
    "# sys.argv.extend('-vm R -infm structured -ds 10 -dh 50'.split())\n",
    "\n",
    "# CONFIG_PATH = './chkpt-h36m/DKF_lr-8_0000e-04-vm-L-inf-structured-dh-50-ds-10-nl-relu-bs-20-ep-2000-rs-600-ttype-simple_gated-etype-mlp-previnp-False-ar-1_0000e+01-rv-5_0000e-02-nade-False-nt-5000-past-only-config.pkl'\n",
    "# WEIGHT_PATH = './chkpt-h36m/DKF_lr-8_0000e-04-vm-L-inf-structured-dh-50-ds-10-nl-relu-bs-20-ep-2000-rs-600-ttype-simple_gated-etype-mlp-previnp-False-ar-1_0000e+01-rv-5_0000e-02-nade-False-nt-5000-past-only-EP25-params.npz'\n",
    "# sys.argv.extend('-vm L -infm structured -ds 10 -dh 50 -uid past-only'.split())\n",
    "\n",
    "# CONFIG_PATH = './chkpt-h36m/DKF_lr-8_0000e-04-vm-L-inf-structured-dh-50-ds-10-nl-relu-bs-20-ep-2000-rs-600-ttype-simple_gated-etype-conditional-previnp-False-ar-1_0000e+01-rv-5_0000e-02-nade-False-nt-5000-past-only-cond-emis-config.pkl'\n",
    "# WEIGHT_PATH = './chkpt-h36m/DKF_lr-8_0000e-04-vm-L-inf-structured-dh-50-ds-10-nl-relu-bs-20-ep-2000-rs-600-ttype-simple_gated-etype-conditional-previnp-False-ar-1_0000e+01-rv-5_0000e-02-nade-False-nt-5000-past-only-cond-emis-EP25-params.npz'\n",
    "# sys.argv.extend('-vm L -infm structured -ds 10 -dh 50 -uid past-only-cond-emis -etype conditional'.split())\n",
    "\n",
    "CONFIG_PATH = './chkpt-h36m/DKF_lr-8_0000e-04-vm-L-inf-structured-dh-50-ds-10-nl-relu-bs-20-ep-2000-rs-600-ttype-simple_gated-etype-mlp-previnp-False-ar-1_0000e+01-rv-5_0000e-02-nade-False-nt-5000-cond-True-past-only-config.pkl'\n",
    "WEIGHT_PATH = './chkpt-h36m/DKF_lr-8_0000e-04-vm-L-inf-structured-dh-50-ds-10-nl-relu-bs-20-ep-2000-rs-600-ttype-simple_gated-etype-mlp-previnp-False-ar-1_0000e+01-rv-5_0000e-02-nade-False-nt-5000-cond-True-past-all-act-cond-EP1075-params.npz'\n",
    "sys.argv.extend('-vm L -cond -infm structured -ds 10 -dh 50 -uid past-only'.split())\n",
    "\n",
    "sys.argv.extend(['-reload', WEIGHT_PATH, '-params', CONFIG_PATH])"
   ]
  },
  {
   "cell_type": "code",
   "execution_count": null,
   "metadata": {
    "collapsed": false,
    "deletable": true,
    "editable": true,
    "scrolled": false
   },
   "outputs": [],
   "source": [
    "dataset = loadDataset(use_cond=True)"
   ]
  },
  {
   "cell_type": "code",
   "execution_count": null,
   "metadata": {
    "collapsed": false,
    "deletable": true,
    "editable": true,
    "scrolled": false
   },
   "outputs": [],
   "source": [
    "from parse_args_dkf import parse; params = parse()\n",
    "from utils.misc import removeIfExists,createIfAbsent,mapPrint,saveHDF5,displayTime\n",
    "from stinfmodel_fast.dkf import DKF\n",
    "import stinfmodel_fast.learning as DKF_learn\n",
    "import stinfmodel_fast.evaluate as DKF_evaluate"
   ]
  },
  {
   "cell_type": "code",
   "execution_count": null,
   "metadata": {
    "collapsed": false,
    "deletable": true,
    "editable": true,
    "scrolled": false
   },
   "outputs": [],
   "source": [
    "if 'h36m_action_names' in dataset:\n",
    "    act_names = dataset['h36m_action_names']\n",
    "    print('Action names: ' + ', '.join(map(str, act_names)))\n",
    "    one_hot_acts = {}\n",
    "    hot_vec_size = len(act_names)\n",
    "    for hot_bit, name in enumerate(act_names):\n",
    "        one_hot_acts[name] = (np.arange(hot_vec_size) == hot_bit)\n",
    "else:\n",
    "    print('No action names found')"
   ]
  },
  {
   "cell_type": "code",
   "execution_count": null,
   "metadata": {
    "collapsed": false,
    "deletable": true,
    "editable": true,
    "scrolled": false
   },
   "outputs": [],
   "source": [
    "use_cond = bool(params.get('use_cond', False))\n",
    "params['savedir']+='-h36m'\n",
    "# createIfAbsent(params['savedir'])\n",
    "\n",
    "# Add dataset and NADE parameters to \"params\" which will become part of the\n",
    "# model\n",
    "for k in ['dim_observations','data_type']:\n",
    "    params[k] = dataset[k]\n",
    "mapPrint('Options: ',params)\n",
    "if params['use_nade']:\n",
    "    params['data_type']='real_nade'\n",
    "\n",
    "# Remove from params\n",
    "removeIfExists('./NOSUCHFILE')\n",
    "reloadFile = params.pop('reloadFile')\n",
    "pfile=params.pop('paramFile')\n",
    "# paramFile is set inside the BaseClass in theanomodels\n",
    "# to point to the pickle file containing params\"\"\"\n",
    "assert os.path.exists(pfile),pfile+' not found. Need paramfile'\n",
    "print 'Reloading trained model from : ',reloadFile\n",
    "print 'Assuming ',pfile,' corresponds to model'\n",
    "dkf  = DKF(params, paramFile = pfile, reloadFile = reloadFile)"
   ]
  },
  {
   "cell_type": "code",
   "execution_count": null,
   "metadata": {
    "collapsed": true,
    "deletable": true,
    "editable": true,
    "scrolled": false
   },
   "outputs": [],
   "source": [
    "def smooth_seq(seq):\n",
    "    assert seq.ndim == 2, \"need 2d seq (real shape %r)\" % (seq,)\n",
    "    kernel = [0.1, 0.25, 0.3, 0.25, 0.1]\n",
    "    full_kernel = np.array(kernel).reshape((-1, 1))\n",
    "    rv = convolve2d(seq, full_kernel, mode='valid')\n",
    "    assert rv.ndim == 2\n",
    "    assert rv.shape[1] == seq.shape[1]\n",
    "    assert rv.shape[0] <= seq.shape[0]\n",
    "    return rv"
   ]
  },
  {
   "cell_type": "code",
   "execution_count": null,
   "metadata": {
    "collapsed": false,
    "deletable": true,
    "editable": true,
    "scrolled": false
   },
   "outputs": [],
   "source": [
    "if not use_cond:\n",
    "    # No need to do conditional nonsense!\n",
    "    oodles_of_samples = dkf.sample(nsamples=50, T=1024)\n",
    "    sample_X, sample_Z = oodles_of_samples\n",
    "\n",
    "    print('Output shape: %s' % str(sample_X.shape))\n",
    "    mu = dataset['h36m_mean'].reshape((1, 1, -1))\n",
    "    sigma = dataset['h36m_std'].reshape((1, 1, -1))\n",
    "    real_X = insert_junk_entries(sample_X * sigma + mu)\n",
    "    dest_dir = './generated/'\n",
    "    try:\n",
    "        os.makedirs(dest_dir)\n",
    "    except OSError:\n",
    "        pass\n",
    "    for i, sampled_times in enumerate(real_X):\n",
    "        dest_fn = os.path.join(dest_dir, 'seq-%i.txt' % i)\n",
    "        print('Saving %s' % dest_fn)\n",
    "        np.savetxt(dest_fn, sampled_times, delimiter=',', fmt='%f')\n",
    "\n",
    "    # Do the same thing, but smoothed\n",
    "    smooth_dest_dir = './generated-smooth/'\n",
    "    try:\n",
    "        os.makedirs(smooth_dest_dir)\n",
    "    except OSError:\n",
    "        pass\n",
    "    for i, sampled_times in enumerate(real_X):\n",
    "        dest_fn = os.path.join(smooth_dest_dir, 'seq-%i.txt' % i)\n",
    "        print('Saving %s' % dest_fn)\n",
    "        smooth_times = smooth_seq(sampled_times)\n",
    "        np.savetxt(dest_fn, smooth_times, delimiter=',', fmt='%f')"
   ]
  },
  {
   "cell_type": "code",
   "execution_count": null,
   "metadata": {
    "collapsed": false,
    "deletable": true,
    "editable": true,
    "scrolled": false
   },
   "outputs": [],
   "source": [
    "if use_cond:\n",
    "    seqs_per_act = 2\n",
    "    seq_length = 256\n",
    "    dest_dir = './generated-wacts/'\n",
    "    try:\n",
    "        os.makedirs(dest_dir)\n",
    "    except OSError:\n",
    "        pass\n",
    "        \n",
    "    # start by generating some sequences for each action type\n",
    "    for act_name, one_hot_rep in one_hot_acts.items():\n",
    "        print('Working on action %s' % act_name)\n",
    "        U = np.stack([one_hot_rep] * seq_length, axis=0)\n",
    "        oodles_of_samples = dkf.sample(nsamples=seqs_per_act, T=seq_length, U=U)\n",
    "        sample_X, sample_Z = oodles_of_samples\n",
    "        mu = dataset['h36m_mean'].reshape((1, 1, -1))\n",
    "        sigma = dataset['h36m_std'].reshape((1, 1, -1))\n",
    "        real_X = insert_junk_entries(sample_X * sigma + mu)\n",
    "\n",
    "        for i, sampled_times in enumerate(real_X):\n",
    "            dest_pfx = os.path.join(dest_dir, 'act-%s-seq-%i' % (act_name, i))\n",
    "            dest_fn = dest_pfx + '.txt'\n",
    "            print('Saving ' + dest_fn)\n",
    "            np.savetxt(dest_fn, sampled_times, delimiter=',', fmt='%f')\n",
    "            \n",
    "            dest_fn_smooth = dest_pfx + '-smooth.txt'\n",
    "            print('Saving ' + dest_fn_smooth)\n",
    "            smooth_sampled_times = smooth_seq(sampled_times)\n",
    "            np.savetxt(dest_fn_smooth, smooth_sampled_times, delimiter=',', fmt='%f')\n",
    "\n",
    "    # now choose random pairs of (distinct) actions and simulate\n",
    "    # a transition at half-way point\n",
    "    num_pairs = 10\n",
    "    nacts = len(act_names)\n",
    "    chosen_idxs = np.random.permutation(nacts * (nacts-1))[:num_pairs]\n",
    "    act_pairs = [(act_names[idxp%nacts], act_names[idxp//nacts]) \\\n",
    "                 for idxp in chosen_idxs]\n",
    "    # act_pairs = [('walking', 'eating'), ('eating', 'walking'),\n",
    "    #              ('walking', 'smoking'), ('smoking', 'walking'),\n",
    "    #              ('smoking', 'eating'), ('eating', 'smoking')]\n",
    "    for act1, act2 in act_pairs:\n",
    "        print('Computing sequence for action %s -> %s' % (act1, act2))\n",
    "        \n",
    "        len1 = seq_length // 2\n",
    "        len2 = seq_length - len1\n",
    "        rep1 = one_hot_acts[act1]\n",
    "        rep2 = one_hot_acts[act2]\n",
    "        U = np.stack([rep1] * len1 + [rep2] * len2, axis=0)\n",
    "        oodles_of_samples = dkf.sample(nsamples=seqs_per_act, T=seq_length, U=U)\n",
    "        sample_X, sample_Z = oodles_of_samples\n",
    "        mu = dataset['h36m_mean'].reshape((1, 1, -1))\n",
    "        sigma = dataset['h36m_std'].reshape((1, 1, -1))\n",
    "        real_X = insert_junk_entries(sample_X * sigma + mu)\n",
    "        \n",
    "        for i, sampled_times in enumerate(real_X):\n",
    "            dest_pfx = os.path.join(dest_dir, 'trans-%s-to-%s-seq-%i' % (act1, act2, i))\n",
    "            dest_fn = dest_pfx + '.txt'\n",
    "            print('Saving ' + dest_fn)\n",
    "            np.savetxt(dest_fn, sampled_times, delimiter=',', fmt='%f')\n",
    "            \n",
    "            dest_fn_smooth = dest_pfx + '-smooth.txt'\n",
    "            print('Saving ' + dest_fn_smooth)\n",
    "            smooth_sampled_times = smooth_seq(sampled_times)\n",
    "            np.savetxt(dest_fn_smooth, smooth_sampled_times, delimiter=',', fmt='%f')"
   ]
  },
  {
   "cell_type": "code",
   "execution_count": null,
   "metadata": {
    "collapsed": true,
    "deletable": true,
    "editable": true,
    "scrolled": false
   },
   "outputs": [],
   "source": []
  }
 ],
 "metadata": {
  "kernelspec": {
   "display_name": "Python 2",
   "language": "python",
   "name": "python2"
  },
  "language_info": {
   "codemirror_mode": {
    "name": "ipython",
    "version": 2
   },
   "file_extension": ".py",
   "mimetype": "text/x-python",
   "name": "python",
   "nbconvert_exporter": "python",
   "pygments_lexer": "ipython2",
   "version": "2.7.13"
  }
 },
 "nbformat": 4,
 "nbformat_minor": 2
}
